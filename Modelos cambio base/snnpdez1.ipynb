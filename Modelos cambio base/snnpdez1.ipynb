{
 "cells": [
  {
   "cell_type": "code",
   "execution_count": 1,
   "id": "bd824f9d",
   "metadata": {},
   "outputs": [
    {
     "name": "stderr",
     "output_type": "stream",
     "text": [
      "c:\\Users\\Victor.moreira\\AppData\\Local\\miniconda3\\Lib\\site-packages\\pandas\\core\\arrays\\masked.py:60: UserWarning: Pandas requires version '1.3.6' or newer of 'bottleneck' (version '1.3.5' currently installed).\n",
      "  from pandas.core import (\n"
     ]
    }
   ],
   "source": [
    "import yfinance as yf\n",
    "import pandas as pd\n",
    "import matplotlib.pyplot as plt "
   ]
  },
  {
   "cell_type": "code",
   "execution_count": 12,
   "id": "23512403",
   "metadata": {},
   "outputs": [
    {
     "name": "stderr",
     "output_type": "stream",
     "text": [
      "[*********************100%***********************]  1 of 1 completed\n"
     ]
    }
   ],
   "source": [
    "tradingCost = 0.0005\n",
    "\n",
    "spy = yf.download('SPY', start='1980-01-01', auto_adjust=False)\n",
    "spy['ret'] = spy['Adj Close'].pct_change()\n",
    "spy['wday'] = spy.index.dayofweek\n",
    "spy['buy'] = (spy['ret'].shift(1) > 0.07)\n",
    "spy['pnl'] = (spy['ret'] * spy['buy'].astype(int)) - ((spy['ret'] * spy['buy'].astype(int)) * tradingCost)\n"
   ]
  },
  {
   "cell_type": "code",
   "execution_count": 13,
   "id": "e7a0b30d",
   "metadata": {},
   "outputs": [
    {
     "data": {
      "image/png": "[encoded data removed]",
      "text/plain": [
       "<Figure size 640x480 with 1 Axes>"
      ]
     },
     "metadata": {},
     "output_type": "display_data"
    }
   ],
   "source": [
    "plt.show(plt.plot((1+spy['pnl']).cumprod()-1))"
   ]
  },
  {
   "cell_type": "code",
   "execution_count": 11,
   "id": "52f2a773",
   "metadata": {},
   "outputs": [
    {
     "data": {
      "text/html": [
       "<div>\n",
       "<style scoped>\n",
       "    .dataframe tbody tr th:only-of-type {\n",
       "        vertical-align: middle;\n",
       "    }\n",
       "\n",
       "    .dataframe tbody tr th {\n",
       "        vertical-align: top;\n",
       "    }\n",
       "\n",
       "    .dataframe thead tr th {\n",
       "        text-align: left;\n",
       "    }\n",
       "\n",
       "    .dataframe thead tr:last-of-type th {\n",
       "        text-align: right;\n",
       "    }\n",
       "</style>\n",
       "<table border=\"1\" class=\"dataframe\">\n",
       "  <thead>\n",
       "    <tr>\n",
       "      <th>Price</th>\n",
       "      <th>buy</th>\n",
       "      <th>pnl</th>\n",
       "    </tr>\n",
       "    <tr>\n",
       "      <th>Ticker</th>\n",
       "      <th></th>\n",
       "      <th></th>\n",
       "    </tr>\n",
       "    <tr>\n",
       "      <th>Date</th>\n",
       "      <th></th>\n",
       "      <th></th>\n",
       "    </tr>\n",
       "  </thead>\n",
       "  <tbody>\n",
       "    <tr>\n",
       "      <th>2008-10-14</th>\n",
       "      <td>True</td>\n",
       "      <td>-0.014793</td>\n",
       "    </tr>\n",
       "    <tr>\n",
       "      <th>2008-10-29</th>\n",
       "      <td>True</td>\n",
       "      <td>-0.007249</td>\n",
       "    </tr>\n",
       "    <tr>\n",
       "      <th>2020-03-16</th>\n",
       "      <td>True</td>\n",
       "      <td>-0.109369</td>\n",
       "    </tr>\n",
       "    <tr>\n",
       "      <th>2020-03-25</th>\n",
       "      <td>True</td>\n",
       "      <td>0.014963</td>\n",
       "    </tr>\n",
       "  </tbody>\n",
       "</table>\n",
       "</div>"
      ],
      "text/plain": [
       "Price        buy       pnl\n",
       "Ticker                    \n",
       "Date                      \n",
       "2008-10-14  True -0.014793\n",
       "2008-10-29  True -0.007249\n",
       "2020-03-16  True -0.109369\n",
       "2020-03-25  True  0.014963"
      ]
     },
     "execution_count": 11,
     "metadata": {},
     "output_type": "execute_result"
    }
   ],
   "source": [
    "spy[spy['buy']].loc[:,['buy', 'pnl']].tail()"
   ]
  },
  {
   "cell_type": "code",
   "execution_count": null,
   "id": "2d7214e6",
   "metadata": {},
   "outputs": [],
   "source": []
  }
 ],
 "metadata": {
  "kernelspec": {
   "display_name": "base",
   "language": "python",
   "name": "python3"
  },
  "language_info": {
   "codemirror_mode": {
    "name": "ipython",
    "version": 3
   },
   "file_extension": ".py",
   "mimetype": "text/x-python",
   "name": "python",
   "nbconvert_exporter": "python",
   "pygments_lexer": "ipython3",
   "version": "3.11.5"
  }
 },
 "nbformat": 4,
 "nbformat_minor": 5
}
